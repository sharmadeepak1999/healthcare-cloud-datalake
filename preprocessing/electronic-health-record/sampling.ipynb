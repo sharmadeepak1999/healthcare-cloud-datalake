{
 "cells": [
  {
   "cell_type": "code",
   "execution_count": 1,
   "metadata": {},
   "outputs": [],
   "source": [
    "import pandas as pd"
   ]
  },
  {
   "cell_type": "code",
   "execution_count": 2,
   "metadata": {},
   "outputs": [],
   "source": [
    "df = pd.read_csv(\"../../datasets/electronic-health-record/input/electronic_health_record_dataset.csv\", low_memory=False)"
   ]
  },
  {
   "cell_type": "code",
   "execution_count": 3,
   "metadata": {},
   "outputs": [
    {
     "data": {
      "text/plain": [
       "array(['50 to 69', '18 to 29', '0 to 17', '70 or Older', '30 to 49'],\n",
       "      dtype=object)"
      ]
     },
     "execution_count": 3,
     "metadata": {},
     "output_type": "execute_result"
    }
   ],
   "source": [
    "df['Age Group'].unique()"
   ]
  },
  {
   "cell_type": "code",
   "execution_count": 4,
   "metadata": {},
   "outputs": [
    {
     "name": "stderr",
     "output_type": "stream",
     "text": [
      "C:\\Users\\sharm\\AppData\\Local\\Temp\\ipykernel_7428\\696267559.py:8: DeprecationWarning: DataFrameGroupBy.apply operated on the grouping columns. This behavior is deprecated, and in a future version of pandas the grouping columns will be excluded from the operation. Either pass `include_groups=False` to exclude the groupings or explicitly select the grouping columns after groupby to silence this warning.\n",
      "  sample_df = df.groupby(strata_column, group_keys=False).apply(lambda x: x.sample(min(len(x), sample_size)))\n"
     ]
    }
   ],
   "source": [
    "# Define the column to stratify by (e.g., 'Age Group')\n",
    "strata_column = 'Age Group'\n",
    "\n",
    "# Define the sample size\n",
    "sample_size = 5000  # Adjust the sample size as needed\n",
    "\n",
    "# Perform stratified sampling\n",
    "sample_df = df.groupby(strata_column, group_keys=False).apply(lambda x: x.sample(min(len(x), sample_size)))\n",
    "\n",
    "# Reset index\n",
    "sample_df.reset_index(drop=True, inplace=True)\n",
    "\n",
    "# Save the sampled data to a new CSV file\n",
    "sample_df.to_csv('../../datasets/electronic-health-record/input/sampled_electronic_health_records.csv', index=False)"
   ]
  }
 ],
 "metadata": {
  "kernelspec": {
   "display_name": "env",
   "language": "python",
   "name": "python3"
  },
  "language_info": {
   "codemirror_mode": {
    "name": "ipython",
    "version": 3
   },
   "file_extension": ".py",
   "mimetype": "text/x-python",
   "name": "python",
   "nbconvert_exporter": "python",
   "pygments_lexer": "ipython3",
   "version": "3.12.2"
  }
 },
 "nbformat": 4,
 "nbformat_minor": 2
}
